{
 "cells": [
  {
   "cell_type": "markdown",
   "id": "451abc3b-daad-4865-92e6-a0b24773d79f",
   "metadata": {},
   "source": [
    "# Task 2 Parametric and NonParametric Statistical Testing\n",
    "## David Robinson"
   ]
  },
  {
   "cell_type": "markdown",
   "id": "007d718c-f990-4e11-b432-892cefe778cb",
   "metadata": {},
   "source": [
    "## Do Smokers pay more in insurance claims than non-smokers?\n",
    "#### Variables: Charges (Continuous) and Smoker (Categorical)"
   ]
  },
  {
   "cell_type": "markdown",
   "id": "0f9557de-a654-4f0f-9a32-4ce2edcd3b13",
   "metadata": {},
   "source": [
    "I will use a Independent Samples T-Test (Parmetric Test)"
   ]
  },
  {
   "cell_type": "markdown",
   "id": "39f37624-24b0-44f2-bca6-641a6fa082b5",
   "metadata": {},
   "source": [
    "### Hypothesis\n",
    "Null Hypothesis: There is no difference in the average charges paid between smokers and non-smokers.  \n",
    "Alternative Hypothesis: There is a difference in the average charges paid between smokers and non-smokers."
   ]
  },
  {
   "cell_type": "code",
   "execution_count": 1,
   "id": "45bff954-1f28-4061-ae02-8c6ab561ce4c",
   "metadata": {},
   "outputs": [],
   "source": [
    "#import libraries and create dataframe for the entire notebook\n",
    "import pandas as pd\n",
    "from scipy import stats\n",
    "df = pd.read_excel('Health Insurance Dataset.xlsx', nrows=1338)"
   ]
  },
  {
   "cell_type": "code",
   "execution_count": 3,
   "id": "2a8dc27e-a94b-4f7c-9379-54c400fcfc02",
   "metadata": {},
   "outputs": [
    {
     "name": "stdout",
     "output_type": "stream",
     "text": [
      "Levene's Test show the variances to be unequal with a p-value of 1.5593284881803726e-66\n",
      "The T-Test indicates the p-value is 5.88946444671698e-103\n",
      "You should reject the null hypothesis\n"
     ]
    }
   ],
   "source": [
    "#create a two dataframes with smokers and nonsmokers and their correlated charges\n",
    "charges_smokers = df[df['smoker'] == 'yes']['charges']\n",
    "charges_nonsmokers = df[df['smoker'] == 'no']['charges']\n",
    "\n",
    "#check to see if the variance is equal or not; p-value less than 0.05 is considered not equal\n",
    "levene_stat, levene_p = stats.levene(charges_smokers, charges_nonsmokers)\n",
    "\n",
    "#run the t_test based on if the variance is equal or not\n",
    "if levene_p < 0.05:\n",
    "    print(\"Levene's Test show the variances to be unequal with a p-value of\", levene_p)\n",
    "    t_stat, p_val = stats.ttest_ind(charges_smokers, charges_nonsmokers, equal_var=False)\n",
    "    print(f\"The T-Test indicates the p-value is {p_val}\")\n",
    "    #p-value less than 0.05 indicates a significant difference\n",
    "    if p_val < 0.05:\n",
    "        print(\"You should reject the null hypothesis\")\n",
    "else:\n",
    "    print(\"Levene's Test show the variances to be equal\")\n",
    "    t_stat, p_val = stats.ttest_ind(charges_smokers, charges_nonsmokers)\n",
    "    print(f\"The T-Test indicates the p-value is {p_val}\")\n",
    "    if p_val < 0.05:\n",
    "        print(\"You should reject the null hypothesis\")\n",
    "    else:\n",
    "        print(\"You should keep the null hypothesis\")"
   ]
  },
  {
   "cell_type": "markdown",
   "id": "a50c5fab-be0a-4a29-894f-70fe135bcd62",
   "metadata": {},
   "source": [
    "### The null Hypothesis will be rejected.\n",
    "### Smokers pay higher insurance charges"
   ]
  },
  {
   "cell_type": "markdown",
   "id": "e699f1f8-2750-4c71-beeb-fec86829ee73",
   "metadata": {},
   "source": [
    "#### Verifying Results"
   ]
  },
  {
   "cell_type": "code",
   "execution_count": 5,
   "id": "a5000d94-b2ac-422c-9e55-b7a0b141ffbb",
   "metadata": {},
   "outputs": [
    {
     "name": "stdout",
     "output_type": "stream",
     "text": [
      "The average amount a smoker pays in insurance charges is $32050.23\n",
      "The average amount a non-smoker pays in insurance charges is $8434.27\n"
     ]
    }
   ],
   "source": [
    "print(f\"The average amount a smoker pays in insurance charges is ${charges_smokers.mean():.2f}\")\n",
    "print(f\"The average amount a non-smoker pays in insurance charges is ${charges_nonsmokers.mean():.2f}\")"
   ]
  },
  {
   "cell_type": "markdown",
   "id": "9593d7de-a322-468b-9269-6fd72dd15daa",
   "metadata": {},
   "source": [
    "## Do individuals in different regions pay different premiums for insurance?\n",
    "#### Variables: Charges (Continuous) and Region (Categorical)\n",
    "I will use the Kruskal-Wallis Test (Non-Parametric Test)"
   ]
  },
  {
   "cell_type": "markdown",
   "id": "fd6c3972-7f03-4155-a52a-8c24f0510ab5",
   "metadata": {},
   "source": [
    "#### Hypothesis\n",
    "Null Hypothesis: The charges paid within all regions are equal.  \n",
    "Alternative Hypothesis: The charges paid within all region are not equal."
   ]
  },
  {
   "cell_type": "code",
   "execution_count": 7,
   "id": "03ad4613-9925-4c14-9940-d82e1c28a92a",
   "metadata": {},
   "outputs": [
    {
     "name": "stdout",
     "output_type": "stream",
     "text": [
      "The Kruskal-Wallis test indicates the p-value is 0.19232908072121002\n",
      "You should keep the null hypothesis\n"
     ]
    }
   ],
   "source": [
    "#create dataframes for each region with the charges correlating to each inside\n",
    "northwest_charges  = df[df[\"region\"] == \"northwest\"][\"charges\"]\n",
    "northeast_charges  = df[df[\"region\"] == \"northeast\"][\"charges\"]\n",
    "southwest_charges  = df[df[\"region\"] == \"southwest\"][\"charges\"]\n",
    "southeast_charges  = df[df[\"region\"] == \"southeast\"][\"charges\"]\n",
    "\n",
    "#perform Kruskal-Wallis Test\n",
    "k_stats, k_pvalue = stats.kruskal(northwest_charges, northeast_charges, southwest_charges, southeast_charges)\n",
    "print(f\"The Kruskal-Wallis test indicates the p-value is {k_pvalue}\")\n",
    "if k_pvalue < 0.05:\n",
    "    print(\"You should reject the null hypothesis\")\n",
    "else:\n",
    "    print(\"You should keep the null hypothesis\")"
   ]
  },
  {
   "cell_type": "markdown",
   "id": "41a9126c-1107-454b-97c0-220271393b75",
   "metadata": {},
   "source": [
    "### The null Hypothesis will not be rejected.\n",
    "### There is no significant difference between the regions"
   ]
  },
  {
   "cell_type": "markdown",
   "id": "558fcbe7-527e-44e3-93da-099927e394cf",
   "metadata": {},
   "source": [
    "#### Verifying Results"
   ]
  },
  {
   "cell_type": "code",
   "execution_count": 9,
   "id": "e645ce3c-8c5d-4de9-a4bc-eb29deac72aa",
   "metadata": {},
   "outputs": [
    {
     "name": "stdout",
     "output_type": "stream",
     "text": [
      "The average amount a person in the northwest region pays in insurance charges is $12417.58\n",
      "The average amount a person in the northeast region pays in insurance charges is $13406.38\n",
      "The average amount a person in the southwest region pays in insurance charges is $12346.94\n",
      "The average amount a person in the southeast region pays in insurance charges is $14735.41\n"
     ]
    }
   ],
   "source": [
    "print(f\"The average amount a person in the northwest region pays in insurance charges is ${northwest_charges.mean():.2f}\")\n",
    "print(f\"The average amount a person in the northeast region pays in insurance charges is ${northeast_charges.mean():.2f}\")\n",
    "print(f\"The average amount a person in the southwest region pays in insurance charges is ${southwest_charges.mean():.2f}\")\n",
    "print(f\"The average amount a person in the southeast region pays in insurance charges is ${southeast_charges.mean():.2f}\")"
   ]
  }
 ],
 "metadata": {
  "kernelspec": {
   "display_name": "Python [conda env:base] *",
   "language": "python",
   "name": "conda-base-py"
  },
  "language_info": {
   "codemirror_mode": {
    "name": "ipython",
    "version": 3
   },
   "file_extension": ".py",
   "mimetype": "text/x-python",
   "name": "python",
   "nbconvert_exporter": "python",
   "pygments_lexer": "ipython3",
   "version": "3.12.7"
  }
 },
 "nbformat": 4,
 "nbformat_minor": 5
}
